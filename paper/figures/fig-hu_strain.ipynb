{
 "cells": [
  {
   "cell_type": "markdown",
   "metadata": {},
   "source": [
    "# Figure hu_strain"
   ]
  },
  {
   "cell_type": "code",
   "execution_count": 19,
   "metadata": {},
   "outputs": [
    {
     "data": {
      "text/plain": [
       "RendererRegistry.enable('notebook')"
      ]
     },
     "execution_count": 19,
     "metadata": {},
     "output_type": "execute_result"
    }
   ],
   "source": [
    "%matplotlib inline\n",
    "import os.path\n",
    "import pandas\n",
    "from matplotlib import pyplot\n",
    "from matplotlib.colors import LinearSegmentedColormap\n",
    "import matplotlib as mpl\n",
    "import matplotlib.pyplot as plt\n",
    "from matplotlib import rcParams\n",
    "\n",
    "import pandas as pd\n",
    "import pickle\n",
    "import itertools\n",
    "import sourmash, sourmash.fig\n",
    "import time\n",
    "\n",
    "import numpy as np\n",
    "\n",
    "import pylab\n",
    "import scipy.cluster.hierarchy as sch\n",
    "from scipy.cluster.hierarchy import dendrogram\n",
    "import collections\n",
    "\n",
    "import altair as alt\n",
    "from vega import VegaLite\n",
    "\n",
    "# for the notebook only (not for JupyterLab) run this command once per session\n",
    "alt.renderers.enable('notebook')"
   ]
  },
  {
   "cell_type": "code",
   "execution_count": 20,
   "metadata": {},
   "outputs": [],
   "source": [
    "# Colors & matplotlib style\n",
    "\n",
    "viridian         = \"#4b9179ff\" # Green with a hint of blue\n",
    "selective_yellow = \"#ffb500ff\" # Excavator yellow\n",
    "rose             = \"#ff1164ff\"\n",
    "hot_pink         = \"#ff70b0ff\" \n",
    "steel_blue       = \"#3e80b8ff\" \n",
    "pumpkin          = \"#ff7a24ff\"\n",
    "sycamore         = \"#939f49ff\"\n",
    "bone             = \"#ded5baff\" # Off-white\n",
    "white_rock       = \"#f1ece0ff\" # Lighter off-white\n",
    "fuscous_gray     = \"#5c594fff\" # Darkish gray\n",
    "newblack         = \"#0e3452ff\" # Almost black, blue-tinted\n",
    "\n",
    "# Style legend box\n",
    "plt.rcParams[\"legend.fancybox\"] = False\n",
    "plt.rcParams[\"legend.framealpha\"] = 1\n",
    "plt.rcParams[\"legend.edgecolor\"] = '1'\n",
    "plt.rcParams[\"legend.facecolor\"] = 'white'\n",
    "\n",
    "plt.rcParams[\"axes.facecolor\"] = white_rock\n",
    "\n",
    "# Despine\n",
    "plt.rcParams[\"axes.spines.right\"] = False\n",
    "plt.rcParams[\"axes.spines.top\"] = False\n",
    "plt.rcParams[\"axes.spines.bottom\"] = False\n",
    "plt.rcParams[\"axes.spines.left\"] = False\n",
    "\n",
    "rcParams.update({'figure.autolayout': True})\n",
    "\n",
    "# plt.rcParams.keys()"
   ]
  },
  {
   "cell_type": "markdown",
   "metadata": {},
   "source": [
    "## Figure (a) - neighborhoods in hu are large"
   ]
  },
  {
   "cell_type": "code",
   "execution_count": 21,
   "metadata": {},
   "outputs": [],
   "source": [
    "# load data & sort by query column\n",
    "\n",
    "def load_hu(filename):\n",
    "    x = pandas.read_csv(filename)\n",
    "    x = x[x['best_containment'] > 0.95].reset_index(drop=True)\n",
    "    return x\n",
    "\n",
    "podarV = load_hu('podarV_k31_r1_search_oh0/results.csv')\n",
    "hu = load_hu('hu-s1_k31_r1_search_oh0/results.csv')"
   ]
  },
  {
   "cell_type": "code",
   "execution_count": 22,
   "metadata": {},
   "outputs": [],
   "source": [
    "df2 = pd.DataFrame(columns=['group', 'similarity', 'fraction', 'cnt'])\n",
    "df2.similarity = 1 / podarV.similarity\n",
    "df2.group = 'Podar V'\n",
    "df2.fraction = 100 / len(df2)\n",
    "df2.cnt = np.ones(len(df2))\n",
    "\n",
    "df3 = pd.DataFrame(columns=['group', 'similarity', 'fraction', 'cnt'])\n",
    "df3.similarity = 1 / hu.similarity\n",
    "df3.group = 'Hu'\n",
    "df3.fraction = 100 / len(df3)\n",
    "df3.cnt = np.ones(len(df3))\n",
    "\n",
    "df = pd.concat([df2, df3])\n",
    "\n",
    "df.similarity = pd.to_numeric(pd.cut(df.similarity,\n",
    "                                     bins=[0, 1.5, 2, 2.5, 3, 3.5, 4], labels=[1, 1.75, 2.25, 2.75, 3.25, 4]))\n",
    "\n",
    "gb = df.groupby(['group', 'similarity'])[[\"fraction\"]].sum()\n",
    "\n",
    "gb = gb.reset_index()\n",
    "\n",
    "pivot_df = gb.pivot(index='group', columns='similarity', values='fraction')"
   ]
  },
  {
   "cell_type": "code",
   "execution_count": 23,
   "metadata": {
    "scrolled": true
   },
   "outputs": [
    {
     "name": "stderr",
     "output_type": "stream",
     "text": [
      "/Users/t/dev/py36/lib/python3.6/site-packages/matplotlib/__init__.py:886: MatplotlibDeprecationWarning: \n",
      "examples.directory is deprecated; in the future, examples will be found relative to the 'datapath' directory.\n",
      "  \"found relative to the 'datapath' directory.\".format(key))\n",
      "/Users/t/dev/py36/lib/python3.6/site-packages/matplotlib/figure.py:2362: UserWarning: This figure includes Axes that are not compatible with tight_layout, so results might be incorrect.\n",
      "  warnings.warn(\"This figure includes Axes that are not compatible \"\n"
     ]
    },
    {
     "data": {
      "image/png": "[encoded data removed]",
      "text/plain": [
       "<Figure size 432x288 with 1 Axes>"
      ]
     },
     "metadata": {},
     "output_type": "display_data"
    }
   ],
   "source": [
    "groups = gb.groupby('group')\n",
    "\n",
    "for name, group in groups:\n",
    "    group.similarity.plot()\n",
    "    \n",
    "plt.show()"
   ]
  },
  {
   "cell_type": "code",
   "execution_count": 24,
   "metadata": {
    "scrolled": true
   },
   "outputs": [
    {
     "name": "stderr",
     "output_type": "stream",
     "text": [
      "/Users/t/dev/py36/lib/python3.6/site-packages/matplotlib/figure.py:98: MatplotlibDeprecationWarning: \n",
      "Adding an axes using the same arguments as a previous axes currently reuses the earlier instance.  In a future version, a new instance will always be created and returned.  Meanwhile, this warning can be suppressed, and the future behavior ensured, by passing a unique label to each axes instance.\n",
      "  \"Adding an axes using the same arguments as a previous axes \"\n",
      "/Users/t/dev/py36/lib/python3.6/site-packages/matplotlib/figure.py:2362: UserWarning: This figure includes Axes that are not compatible with tight_layout, so results might be incorrect.\n",
      "  warnings.warn(\"This figure includes Axes that are not compatible \"\n"
     ]
    },
    {
     "data": {
      "image/png": "[encoded data removed]",
      "text/plain": [
       "<Figure size 273.6x288 with 2 Axes>"
      ]
     },
     "metadata": {},
     "output_type": "display_data"
    }
   ],
   "source": [
    "from matplotlib.colors import ListedColormap\n",
    "plt.rcParams[\"axes.facecolor\"] = white_rock\n",
    "# fuscous_gray\n",
    "\n",
    "# cmap = plt.cm.get_cmap('RdBu_r', 6)\n",
    "# cmap =  ListedColormap(['#3e80b8ff', '#4b9179ff', '#939f49ff', '#ffb500ff', '#ff7a24ff', '#ff1164ff'], \"indexed\")\n",
    "# cmap =  ListedColormap(['#3772a5ff', '#4e987eff', '#9eab4fff', '#ffb605ff', '#ff6d0fff', '#ff2370ff'], \"indexed\")\n",
    "cmap =  ListedColormap(['#0e3452ff', '#975688ff', '#ff70b0ff', '#ff8c8fff', '#ffa76eff', '#ffc945ff'], \"indexed\")\n",
    "\n",
    "\n",
    "# create fake plot to get color bar\n",
    "plot = plt.scatter(gb.similarity, gb.similarity, c = gb.similarity, cmap = cmap)\n",
    "plt.clf()\n",
    "cb = plt.colorbar(plot, ticks=[1.5, 2, 2.5, 3, 3.5], pad=0.25)\n",
    "cb.outline.set_visible(False)\n",
    "cb.ax.get_yaxis().labelpad = 10\n",
    "cb.ax.set_ylabel('Relative Neighborhood Size')\n",
    "\n",
    "# plt.subplot(121)\n",
    "pivot_df.plot.bar(ax=plt.gca(), stacked=True, colormap=cmap, legend=False, figsize=(3.8,4))\n",
    "\n",
    "plt.ylabel('Fraction in %')\n",
    "plt.ylim(0, 100)\n",
    "\n",
    "ax1 = plt.axes()\n",
    "x_axis = ax1.axes.get_xaxis()\n",
    "x_axis.set_label_text('')\n",
    "\n",
    "pyplot.savefig('hu_strain_a.pdf')\n",
    "\n",
    "plt.tight_layout()\n",
    "plt.show()"
   ]
  },
  {
   "cell_type": "code",
   "execution_count": 25,
   "metadata": {},
   "outputs": [],
   "source": [
    "plt.rcParams[\"axes.facecolor\"] = white_rock"
   ]
  },
  {
   "cell_type": "code",
   "execution_count": 26,
   "metadata": {},
   "outputs": [
    {
     "data": {
      "text/html": [
       "<div class=\"vega-embed\" id=\"07ec7501-a42e-4673-80a1-727ed83f4ef4\"></div>\n",
       "\n",
       "<style>\n",
       ".vega-embed .error p {\n",
       "    color: firebrick;\n",
       "    font-size: 14px;\n",
       "}\n",
       "</style>\n"
      ]
     },
     "metadata": {
      "jupyter-vega": "#07ec7501-a42e-4673-80a1-727ed83f4ef4"
     },
     "output_type": "display_data"
    },
    {
     "data": {
      "application/javascript": [
       "var spec = {\"mark\": {\"type\": \"bar\"}, \"width\": 140, \"height\": 70, \"transform\": [{\"window\": [{\"op\": \"count\", \"as\": \"count\"}], \"frame\": [null, null], \"groupby\": [\"group\"]}, {\"calculate\": \"100  / datum.count\", \"as\": \"fraction\"}], \"encoding\": {\"y\": {\"type\": \"nominal\", \"field\": \"group\", \"title\": null, \"sort\": [\"Podar Ref\", \"Podar V\", \"Hu\"]}, \"x\": {\"type\": \"quantitative\", \"field\": \"fraction\", \"aggregate\": \"sum\", \"title\": \"Fraction in %\"}, \"color\": {\"type\": \"quantitative\", \"axis\": {\"title\": \"Neighborhood Size\"}, \"bin\": {\"maxbins\": 8}, \"field\": \"similarity\", \"scale\": {\"range\": {\"scheme\": \"blueorange\"}}, \"legend\": {\"direction\": \"horizontal\"}}, \"order\": {\"aggregate\": \"min\", \"field\": \"similarity\", \"type\": \"quantitative\"}}, \"config\": {\"scale\": {\"bandPaddingInner\": 0, \"bandPaddingOuter\": 0}, \"view\": {\"stroke\": 0}, \"text\": {\"baseline\": \"middle\"}, \"axis\": {\"tickSize\": 5, \"tickOpacity\": 0, \"domainWidth\": 0}, \"legend\": {\"direction\": \"horizontal\"}}, \"$schema\": \"https://vega.github.io/schema/vega-lite/v3.json\", \"data\": {\"values\": [{\"group\": \"Podar V\", \"similarity\": 1.0261579073674105}, {\"group\": \"Podar V\", \"similarity\": 1.028436018957346}, {\"group\": \"Podar V\", \"similarity\": 1.2948765204570587}, {\"group\": \"Podar V\", \"similarity\": 1.277815934065934}, {\"group\": \"Podar V\", \"similarity\": 1.1989402697495184}, {\"group\": \"Podar V\", \"similarity\": 1.206546795758414}, {\"group\": \"Podar V\", \"similarity\": 1.0144554455445545}, {\"group\": \"Podar V\", \"similarity\": 1.0276333789329686}, {\"group\": \"Podar V\", \"similarity\": 1.1035156249999998}, {\"group\": \"Podar V\", \"similarity\": 1.0217627856365614}, {\"group\": \"Podar V\", \"similarity\": 1.0229544613106256}, {\"group\": \"Podar V\", \"similarity\": 1.0235472024195291}, {\"group\": \"Podar V\", \"similarity\": 1.037615894039735}, {\"group\": \"Podar V\", \"similarity\": 1.0401034928848643}, {\"group\": \"Podar V\", \"similarity\": 1.0164283541223}, {\"group\": \"Podar V\", \"similarity\": 1.0225563909774436}, {\"group\": \"Podar V\", \"similarity\": 1.02883865939205}, {\"group\": \"Podar V\", \"similarity\": 1.1563510890662065}, {\"group\": \"Podar V\", \"similarity\": 1.0351190476190475}, {\"group\": \"Podar V\", \"similarity\": 1.4514124293785309}, {\"group\": \"Podar V\", \"similarity\": 1.0112201963534362}, {\"group\": \"Podar V\", \"similarity\": 1.5119266055045872}, {\"group\": \"Podar V\", \"similarity\": 1.0208333333333333}, {\"group\": \"Podar V\", \"similarity\": 1.0108976727004064}, {\"group\": \"Podar V\", \"similarity\": 1.0788863109048723}, {\"group\": \"Podar V\", \"similarity\": 1.0344701136780343}, {\"group\": \"Podar V\", \"similarity\": 1.0063126114999312}, {\"group\": \"Podar V\", \"similarity\": 1.201484981437732}, {\"group\": \"Podar V\", \"similarity\": 1.0336174242424243}, {\"group\": \"Podar V\", \"similarity\": 1.093054318788958}, {\"group\": \"Podar V\", \"similarity\": 1.1308152924919392}, {\"group\": \"Podar V\", \"similarity\": 1.0952685421994885}, {\"group\": \"Podar V\", \"similarity\": 1.1037783375314862}, {\"group\": \"Podar V\", \"similarity\": 1.2879695155144257}, {\"group\": \"Podar V\", \"similarity\": 1.2398397252432742}, {\"group\": \"Podar V\", \"similarity\": 1.009660463133968}, {\"group\": \"Podar V\", \"similarity\": 1.3338184464253229}, {\"group\": \"Podar V\", \"similarity\": 1.3929945333063374}, {\"group\": \"Podar V\", \"similarity\": 1.2326653306613227}, {\"group\": \"Podar V\", \"similarity\": 1.500562429696288}, {\"group\": \"Podar V\", \"similarity\": 1.543905635648755}, {\"group\": \"Podar V\", \"similarity\": 1.153167602245389}, {\"group\": \"Podar V\", \"similarity\": 1.060633484162896}, {\"group\": \"Podar V\", \"similarity\": 1.1355291576673865}, {\"group\": \"Podar V\", \"similarity\": 1.47240990990991}, {\"group\": \"Podar V\", \"similarity\": 1.4681545998911267}, {\"group\": \"Podar V\", \"similarity\": 1.0257997936016512}, {\"group\": \"Podar V\", \"similarity\": 1.0101825842696628}, {\"group\": \"Podar V\", \"similarity\": 1.0217391304347825}, {\"group\": \"Podar V\", \"similarity\": 1.3182722364308042}, {\"group\": \"Podar V\", \"similarity\": 1.2907488986784141}, {\"group\": \"Podar V\", \"similarity\": 1.0943066713237863}, {\"group\": \"Podar V\", \"similarity\": 1.0100783874580068}, {\"group\": \"Podar V\", \"similarity\": 1.4397810218978102}, {\"group\": \"Podar V\", \"similarity\": 1.394888408927286}, {\"group\": \"Hu\", \"similarity\": 1.5747368421052632}, {\"group\": \"Hu\", \"similarity\": 1.5495915985997666}, {\"group\": \"Hu\", \"similarity\": 1.5588842975206612}, {\"group\": \"Hu\", \"similarity\": 1.3562945368171022}, {\"group\": \"Hu\", \"similarity\": 3.5719929762949945}, {\"group\": \"Hu\", \"similarity\": 1.4217821782178217}, {\"group\": \"Hu\", \"similarity\": 2.1753494282083863}, {\"group\": \"Hu\", \"similarity\": 1.7452380952380953}, {\"group\": \"Hu\", \"similarity\": 3.498955286251567}, {\"group\": \"Hu\", \"similarity\": 1.5033167495854065}, {\"group\": \"Hu\", \"similarity\": 1.5485074626865674}, {\"group\": \"Hu\", \"similarity\": 1.3726851851851851}, {\"group\": \"Hu\", \"similarity\": 1.2704135737009545}, {\"group\": \"Hu\", \"similarity\": 1.4507361268403172}, {\"group\": \"Hu\", \"similarity\": 2.3547818422212425}, {\"group\": \"Hu\", \"similarity\": 1.1676300578034682}, {\"group\": \"Hu\", \"similarity\": 1.3239700374531835}, {\"group\": \"Hu\", \"similarity\": 1.5487089201877935}, {\"group\": \"Hu\", \"similarity\": 1.228088159917991}, {\"group\": \"Hu\", \"similarity\": 1.5175808720112516}, {\"group\": \"Hu\", \"similarity\": 1.551150895140665}, {\"group\": \"Hu\", \"similarity\": 1.5879676440849342}, {\"group\": \"Hu\", \"similarity\": 2.2104247104247103}, {\"group\": \"Hu\", \"similarity\": 1.7542310522442972}, {\"group\": \"Hu\", \"similarity\": 1.2513611615245008}, {\"group\": \"Hu\", \"similarity\": 1.4776699029126215}, {\"group\": \"Hu\", \"similarity\": 1.6217061188030373}, {\"group\": \"Hu\", \"similarity\": 1.749271137026239}, {\"group\": \"Hu\", \"similarity\": 1.6127285037237644}, {\"group\": \"Hu\", \"similarity\": 2.138486312399356}]}};\n",
       "var opt = {};\n",
       "var selector = \"#07ec7501-a42e-4673-80a1-727ed83f4ef4\";\n",
       "var type = \"vega-lite\";\n",
       "\n",
       "var output_area = this;\n",
       "\n",
       "require(['nbextensions/jupyter-vega/index'], function(vega) {\n",
       "  vega.render(selector, spec, type, opt, output_area);\n",
       "}, function (err) {\n",
       "  if (err.requireType !== 'scripterror') {\n",
       "    throw(err);\n",
       "  }\n",
       "});\n"
      ]
     },
     "metadata": {
      "jupyter-vega": "#07ec7501-a42e-4673-80a1-727ed83f4ef4"
     },
     "output_type": "display_data"
    },
    {
     "data": {
      "image/png": "[encoded data removed]"
     },
     "metadata": {
      "jupyter-vega": "#07ec7501-a42e-4673-80a1-727ed83f4ef4"
     },
     "output_type": "display_data"
    }
   ],
   "source": [
    "#df1 = pd.DataFrame(columns=['group', 'similarity'])\n",
    "#df1.similarity = 1 / podar_ref.similarity\n",
    "#df1.group = 'Podar Ref'\n",
    "\n",
    "df2 = pd.DataFrame(columns=['group', 'similarity'])\n",
    "df2.similarity = 1 / podarV.similarity\n",
    "df2.group = 'Podar V'\n",
    "\n",
    "df3 = pd.DataFrame(columns=['group', 'similarity'])\n",
    "df3.similarity = 1 / hu.similarity\n",
    "df3.group = 'Hu'\n",
    "\n",
    "df = pd.concat([df2, df3])\n",
    "\n",
    "VegaLite({\n",
    "  \"mark\": {\"type\": \"bar\"},\n",
    "  \"width\": 140,\n",
    "  \"height\": 70,\n",
    "  \"transform\": [{\n",
    "    \"window\": [{\n",
    "        \"op\": \"count\",\n",
    "        \"as\": \"count\"\n",
    "    }],\n",
    "    \"frame\": [None, None],\n",
    "    \"groupby\": [\"group\"]\n",
    "  }, {\n",
    "    \"calculate\": \"100  / datum.count\", \"as\": \"fraction\"\n",
    "  }],\n",
    "  \"encoding\": {\n",
    "    \"y\": {\"type\": \"nominal\", \"field\": \"group\", \"title\": None, \"sort\": [\"Podar Ref\", \"Podar V\", \"Hu\"]},\n",
    "    \"x\": {\"type\": \"quantitative\", \"field\": \"fraction\", \"aggregate\": \"sum\", \"title\": \"Fraction in %\"},\n",
    "    # \"x\": {\"type\": \"quantitative\", \"field\": \"count\", \"aggregate\": \"sum\", \"title\": \"Count\"},\n",
    "    \"color\": {\n",
    "      \"type\": \"quantitative\",\n",
    "      \"axis\": {\"title\": \"Neighborhood Size\"},\n",
    "      \"bin\": {\"maxbins\": 8},\n",
    "      \"field\": \"similarity\",\n",
    "      \"scale\": {\"range\": {\"scheme\": \"blueorange\"}},\n",
    "      \"legend\": {\"direction\": \"horizontal\"},\n",
    "    },\n",
    "    \"order\": {\"aggregate\": \"min\", \"field\": \"similarity\", \"type\": \"quantitative\"}\n",
    "  },\n",
    "  \"config\": {\n",
    "    \"scale\": {\"bandPaddingInner\": 0, \"bandPaddingOuter\": 0},\n",
    "    \"view\": {\"stroke\": 0},\n",
    "    \"text\": {\"baseline\": \"middle\"},\n",
    "    \"axis\": {\"tickSize\": 5, \"tickOpacity\": 0, \"domainWidth\": 0},\n",
    "    \"legend\": {\"direction\": \"horizontal\"},\n",
    "  },\n",
    "  \"$schema\": \"https://vega.github.io/schema/vega-lite/v3.json\"\n",
    "}, df)"
   ]
  },
  {
   "cell_type": "markdown",
   "metadata": {},
   "source": [
    "## Figure (b) - checkm completeness improvement"
   ]
  },
  {
   "cell_type": "code",
   "execution_count": 27,
   "metadata": {},
   "outputs": [],
   "source": [
    "# load the completion metrics for the basic bins\n",
    "bins = {}\n",
    "bincrumbs = {}\n",
    "\n",
    "for row in open('files_checkm/checkm-hu.txt', 'rt'):\n",
    "    if row.startswith('-'):\n",
    "        continue\n",
    "    row = row.split()\n",
    "    if row[0].startswith('hu'):\n",
    "        name = row[0]\n",
    "        genome = 'hu-'+name.split('-')[1]\n",
    "        complete, contam, strain = row[-3:]\n",
    "        complete, contam, strain = float(complete), float(contam), float(strain)\n",
    "        if 'cmbnd' in name:\n",
    "            bincrumbs[genome] = (complete, contam, strain)\n",
    "        else:\n",
    "            bins[genome] = (complete, contam, strain)\n",
    "            \n",
    "#assert set(bins) == set(bincrumbs)"
   ]
  },
  {
   "cell_type": "code",
   "execution_count": 28,
   "metadata": {},
   "outputs": [],
   "source": [
    "# load the completion metrics for the plass assemblies\n",
    "plassbins = {}\n",
    "\n",
    "for row in open('files_checkm/checkm-plass.txt', 'rt'):\n",
    "    if row.startswith('-'):\n",
    "        continue\n",
    "    row = row.split()\n",
    "    if row[0].startswith('hu'):\n",
    "        name = row[0]\n",
    "        genome = 'hu-'+name.split('.')[0].split('-')[1]\n",
    "        complete, contam, strain = row[-3:]\n",
    "        complete, contam, strain = float(complete), float(contam), float(strain)\n",
    "        plassbins[genome] = (complete, contam, strain)"
   ]
  },
  {
   "cell_type": "code",
   "execution_count": 29,
   "metadata": {},
   "outputs": [],
   "source": [
    "# load the completion metrics for the megahit assemblies\n",
    "megahit = {}\n",
    "\n",
    "for row in open('files_checkm/checkm-megahit.txt', 'rt'):\n",
    "    if row.startswith('-'):\n",
    "        continue\n",
    "    row = row.split()\n",
    "    if row[0].startswith('hu'):\n",
    "        name = row[0]\n",
    "        genome = 'hu-'+name.split('.')[0].split('-')[1]\n",
    "        complete, contam, strain = row[-3:]\n",
    "        complete, contam, strain = float(complete), float(contam), float(strain)\n",
    "        megahit[genome] = (complete, contam, strain)"
   ]
  },
  {
   "cell_type": "code",
   "execution_count": 32,
   "metadata": {},
   "outputs": [
    {
     "name": "stdout",
     "output_type": "stream",
     "text": [
      "23\n"
     ]
    }
   ],
   "source": [
    "summary = []\n",
    "for k in bins:\n",
    "    row = [k]\n",
    "    row.extend(bins[k])\n",
    "#    row.extend(bincrumbs[k])\n",
    "    row.extend(plassbins[k])\n",
    "    row.extend(megahit[k])\n",
    "    summary.append(row)\n",
    "    \n",
    "df = pd.DataFrame(summary, columns=['genome', 'bin_complete', 'bin_contam', 'bin_strain',\n",
    "#                                    'combined_complete', 'combined_contam', 'combined_strain',\n",
    "                                    'plass_complete', 'plass_contam', 'plass_strain',\n",
    "                                    'megahit_complete', 'megahit_contam', 'megahit_strain'])\n",
    "\n",
    "print(len(df))"
   ]
  },
  {
   "cell_type": "code",
   "execution_count": 33,
   "metadata": {},
   "outputs": [],
   "source": [
    "df['nt_diff'] = df['megahit_complete'] - df['bin_complete']\n",
    "df['aa_diff'] = df['plass_complete'] - df['megahit_complete']\n",
    "df['total_diff'] = df['plass_complete'] - df['bin_complete']"
   ]
  },
  {
   "cell_type": "code",
   "execution_count": 34,
   "metadata": {},
   "outputs": [
    {
     "name": "stderr",
     "output_type": "stream",
     "text": [
      "/Users/t/dev/py36/lib/python3.6/site-packages/matplotlib/figure.py:2362: UserWarning: This figure includes Axes that are not compatible with tight_layout, so results might be incorrect.\n",
      "  warnings.warn(\"This figure includes Axes that are not compatible \"\n"
     ]
    },
    {
     "data": {
      "image/png": "[encoded data removed]",
      "text/plain": [
       "<Figure size 432x288 with 1 Axes>"
      ]
     },
     "metadata": {},
     "output_type": "display_data"
    }
   ],
   "source": [
    "#pyplot.plot(df.bin_complete, df.plass_complete, 'bo')\n",
    "pyplot.plot(df.bin_complete, df.megahit_complete, 'o', color=rose)\n",
    "\n",
    "pyplot.plot([0, 100], [0, 100], '--', color=rose)\n",
    "\n",
    "pyplot.xlabel('completeness (%) - original bin')\n",
    "pyplot.ylabel('complete (%) - neighborhood')\n",
    "#pyplot.title('Figure 4b - bins vs nbhd plass assembly')\n",
    "pyplot.axis(xmin=30, xmax=105, ymin=30, ymax=105)\n",
    "\n",
    "#pyplot.arrow(50.06, 50.06 + 0.86, 0, 15.62, length_includes_head=True, head_width=2)\n",
    "\n",
    "for row in df.itertuples():\n",
    "    if abs(row.aa_diff) > 2.0:\n",
    "        pyplot.arrow(row.bin_complete, row.megahit_complete, 0, row.aa_diff, length_includes_head=True, head_width=2)\n",
    "        \n",
    "#pyplot.savefig('hu_strain_b.pdf')"
   ]
  },
  {
   "cell_type": "code",
   "execution_count": 35,
   "metadata": {},
   "outputs": [
    {
     "name": "stderr",
     "output_type": "stream",
     "text": [
      "/Users/t/dev/py36/lib/python3.6/site-packages/matplotlib/figure.py:2362: UserWarning: This figure includes Axes that are not compatible with tight_layout, so results might be incorrect.\n",
      "  warnings.warn(\"This figure includes Axes that are not compatible \"\n"
     ]
    },
    {
     "data": {
      "image/png": "[encoded data removed]",
      "text/plain": [
       "<Figure size 432x288 with 1 Axes>"
      ]
     },
     "metadata": {},
     "output_type": "display_data"
    }
   ],
   "source": [
    "#pyplot.plot(df.bin_complete, df.plass_complete, 'bo')\n",
    "pyplot.xlabel('completeness (%) - original bin')\n",
    "pyplot.ylabel('complete (%) - neighborhood')\n",
    "#pyplot.title('Figure 4b - bins vs nbhd plass assembly')\n",
    "pyplot.axis(xmin=30, xmax=105, ymin=30, ymax=105)\n",
    "\n",
    "pyplot.plot([0, 105], [0, 105], '--', lw=2, color='w')    \n",
    "\n",
    "#pyplot.arrow(50.06, 50.06 + 0.86, 0, 15.62, length_includes_head=True, head_width=2)\n",
    "\n",
    "for row in df.itertuples():\n",
    "    x,y = row.bin_complete, row.megahit_complete\n",
    "    dx,dy = 0, row.aa_diff\n",
    "    if dy == 0.0:\n",
    "        continue\n",
    "    col = viridian if dy > 0 else rose\n",
    "    pyplot.plot([x,x],[y,y+dy], '-', color=col, lw=7, solid_capstyle='round')\n",
    "    \n",
    "pyplot.plot(df.bin_complete, df.megahit_complete, 'o', markersize=8,\n",
    "            color=steel_blue, markeredgewidth=1.5, \n",
    "            markeredgecolor=white_rock)\n",
    "\n",
    "# viridian\n",
    "# selective_yellow\n",
    "# rose\n",
    "# hot_pink\n",
    "# steel_blue\n",
    "# bone\n",
    "# white_rock\n",
    "# fuscous_gray\n",
    "# newblack\n",
    "\n",
    "pyplot.savefig('hu_strain_b.pdf')"
   ]
  },
  {
   "cell_type": "code",
   "execution_count": 39,
   "metadata": {},
   "outputs": [],
   "source": [
    "import pandas\n",
    "names_df = pandas.read_csv('plass-genes/TR-hu-sb1-plass-gyrA.csv')\n",
    "\n",
    "d = {}\n",
    "for row in names_df.itertuples():\n",
    "    d[row.name] = row.abbreviation\n",
    "\n",
    "fp = open('../tables/bin-completeness.tex', 'wt')\n",
    "    \n",
    "# 'genome', 'bin_complete', 'nt_diff', 'aa_diff', 'total_diff', 'plass_complete\n",
    "for row in df.sort_values('bin_complete').itertuples():\n",
    "    name = d[row.genome]\n",
    "    name = name.replace('_', '\\\\_')\n",
    "    print('{} & {:.1f}\\\\% & {:.1f}\\\\% ({:.1f}) & {:.1f}\\\\% ({:.1f}) \\\\\\\\'.format(name, row.bin_complete, row.megahit_complete, row.nt_diff, row.plass_complete, row.total_diff),\n",
    "          file=fp)\n",
    "    \n",
    "fp.close()"
   ]
  }
 ],
 "metadata": {
  "kernelspec": {
   "display_name": "Python 3",
   "language": "python",
   "name": "python3"
  },
  "language_info": {
   "codemirror_mode": {
    "name": "ipython",
    "version": 3
   },
   "file_extension": ".py",
   "mimetype": "text/x-python",
   "name": "python",
   "nbconvert_exporter": "python",
   "pygments_lexer": "ipython3",
   "version": "3.6.7"
  }
 },
 "nbformat": 4,
 "nbformat_minor": 2
}
