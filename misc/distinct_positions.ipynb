{
 "cells": [
  {
   "cell_type": "markdown",
   "metadata": {},
   "source": [
    "# Code for calculating number of distinct genes found in the plass assemblies of neighborhoods"
   ]
  },
  {
   "cell_type": "code",
   "execution_count": 5,
   "metadata": {},
   "outputs": [],
   "source": [
    "import screed, collections"
   ]
  },
  {
   "cell_type": "code",
   "execution_count": 9,
   "metadata": {},
   "outputs": [
    {
     "name": "stdout",
     "output_type": "stream",
     "text": [
      "[(19, 2, 0), (20, 0, 2), (21, 0, 2), (22, 0, 0), (23, 1, 1), (24, 1, 2), (25, 2, 3), (26, 1, 1), (27, 1, 2), (28, 0, 0), (29, 0, 0), (30, 0, 2), (31, 0, 0), (32, 0, 1), (33, 1, 1), (34, 1, 2), (35, 1, 1), (36, 2, 2), (37, 1, 1), (38, 1, 1), (39, 1, 1), (40, 1, 2), (41, 1, 2)]\n"
     ]
    }
   ],
   "source": [
    "def do_mincount(filename):\n",
    "    by_genome = collections.defaultdict(list)\n",
    "\n",
    "    records = list(screed.open(filename))\n",
    "    \n",
    "    for record in records:\n",
    "        genome = record.name.split('_')[0]\n",
    "        by_genome[genome].append(record.sequence)\n",
    "        \n",
    "    maxlen = len(record.sequence)\n",
    "\n",
    "    zz = []\n",
    "\n",
    "    for name in by_genome:\n",
    "        # for each position in the alignment, find all aligned non-gap characters\n",
    "        by_pos = [ set() for x in range(maxlen) ]\n",
    "        for sequence in by_genome[name]:\n",
    "            for pos, ch in enumerate(sequence):\n",
    "                if ch != '-':\n",
    "                    by_pos[pos].add(ch)\n",
    "\n",
    "        # count how many positions have 1 character, 2 characters, etc.\n",
    "        c = collections.Counter()\n",
    "        for x in by_pos:\n",
    "            c[len(x)] += 1\n",
    "\n",
    "        # now eliminate anything that has fewer than 10 supporting positions\n",
    "        xx = c.most_common()\n",
    "        xx = [ (a, b) for (a, b) in xx if b > 10 ]\n",
    "\n",
    "        # find the biggest number of well-supported distinct characters\n",
    "        xx.sort()\n",
    "        zz.append((name, xx[-1][0]))\n",
    "\n",
    "    zz = dict(zz)\n",
    "\n",
    "    xx = []\n",
    "    for i in range(19, 42):\n",
    "        bin_num = zz.get('BIN-hu-genome{}'.format(i), 0)\n",
    "        nbhd_num = zz.get('hu-genome{}'.format(i), 0)\n",
    "        xx.append((i, bin_num, nbhd_num))\n",
    "\n",
    "    return xx\n",
    "                   \n",
    "gyrA = do_mincount('plass-hardtrim-all-bin-PF00521_gyra-hmmscanT100-mafft.faa')\n",
    "print(gyrA)"
   ]
  },
  {
   "cell_type": "code",
   "execution_count": 10,
   "metadata": {},
   "outputs": [],
   "source": [
    "recA = do_mincount('plass-hardtrim-all-bin-PF00154_reca-hmmscanT100-mafft.faa')\n",
    "rplB = do_mincount('plass-hardtrim-all-bin-PF00181_rplb-hmmscanT100-mafft.faa')\n",
    "rpsC = do_mincount('plass-hardtrim-all-bin-PF00189_rpsc-hmmscanT100-mafft.faa')\n",
    "gyrB = do_mincount('plass-hardtrim-all-bin-PF00204_gyrb-hmmscanT100-mafft.faa')\n",
    "gyrA = do_mincount('plass-hardtrim-all-bin-PF00521_gyra-hmmscanT100-mafft.faa')\n",
    "rpb = do_mincount('plass-hardtrim-all-bin-PF00562_rpb2d6-hmmscanT100-mafft.faa')\n",
    "alaS = do_mincount('plass-hardtrim-all-bin-PF01411_alas-hmmscanT100-mafft.faa')\n"
   ]
  },
  {
   "cell_type": "markdown",
   "metadata": {},
   "source": [
    "## output latex for the summary spreadsheets"
   ]
  },
  {
   "cell_type": "code",
   "execution_count": 12,
   "metadata": {},
   "outputs": [],
   "source": [
    "import pandas\n",
    "names_df = pandas.read_csv('TR-hu-sb1-plass-gyrA.csv')\n",
    "\n",
    "names_d = {}\n",
    "for row in names_df.itertuples():\n",
    "    names_d[row.name] = row.abbreviation"
   ]
  },
  {
   "cell_type": "code",
   "execution_count": 14,
   "metadata": {},
   "outputs": [],
   "source": [
    "import sys\n",
    "def latex_output(mincounts, fp=sys.stdout):\n",
    "    for row in sorted(mincounts, key=lambda x:(x[1], x[2], x[0])):\n",
    "        num, orig, mincount = row\n",
    "        name = 'hu-genome{}'.format(num)\n",
    "        abbreviation = names_d[name]\n",
    "\n",
    "        print(abbreviation.replace('_', '\\\\_'), '&', orig, '&', mincount, '\\\\\\\\', file=fp)\n",
    "\n",
    "latex_output(recA, open('recA-table.tex', 'wt'))\n",
    "latex_output(rplB, open('rplB-table.tex', 'wt'))\n",
    "latex_output(rpsC, open('rpsC-table.tex', 'wt'))\n",
    "latex_output(gyrB, open('gyrB-table.tex', 'wt'))\n",
    "latex_output(gyrA, open('gyrA-table.tex', 'wt'))\n",
    "latex_output(rpb, open('rpb-table.tex', 'wt'))\n",
    "latex_output(alaS, open('alaS-table.tex', 'wt'))\n"
   ]
  },
  {
   "cell_type": "code",
   "execution_count": null,
   "metadata": {},
   "outputs": [],
   "source": []
  }
 ],
 "metadata": {
  "kernelspec": {
   "display_name": "Python 3",
   "language": "python",
   "name": "python3"
  },
  "language_info": {
   "codemirror_mode": {
    "name": "ipython",
    "version": 3
   },
   "file_extension": ".py",
   "mimetype": "text/x-python",
   "name": "python",
   "nbconvert_exporter": "python",
   "pygments_lexer": "ipython3",
   "version": "3.6.7"
  }
 },
 "nbformat": 4,
 "nbformat_minor": 2
}
